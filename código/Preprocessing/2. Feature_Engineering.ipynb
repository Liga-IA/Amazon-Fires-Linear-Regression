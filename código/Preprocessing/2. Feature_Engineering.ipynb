{
 "cells": [
  {
   "cell_type": "markdown",
   "metadata": {},
   "source": [
    "# Feature Engineering"
   ]
  },
  {
   "cell_type": "markdown",
   "metadata": {},
   "source": [
    "Esse notebook tem como objetivo estender os dados através de trasnformações que dizem respeito ao domínio de aplicação."
   ]
  },
  {
   "cell_type": "markdown",
   "metadata": {},
   "source": [
    "## Imports"
   ]
  },
  {
   "cell_type": "code",
   "execution_count": 10,
   "metadata": {},
   "outputs": [],
   "source": [
    "import numpy as np\n",
    "import pandas as pd\n",
    "import matplotlib.pyplot as plt\n",
    "import seaborn as sns"
   ]
  },
  {
   "cell_type": "markdown",
   "metadata": {},
   "source": [
    "## Load datasets"
   ]
  },
  {
   "cell_type": "code",
   "execution_count": 11,
   "metadata": {},
   "outputs": [],
   "source": [
    "kaggle_data = pd.read_csv(\"../../dados/Preprocessed/preprocessed_kaggle.csv\")\n",
    "inpe_data = pd.read_csv(\"../../dados/Preprocessed/preprocessed_inpe.csv\")"
   ]
  },
  {
   "cell_type": "code",
   "execution_count": 12,
   "metadata": {},
   "outputs": [],
   "source": [
    "inpe_data.columns = ['state', 'city', 'biome', 'days_without_rain', \n",
    "                     'precipitacao', 'risk_of_fire', 'latitude',\n",
    "                     'longitude', 'frp', 'month', 'year', 'day','hour']"
   ]
  },
  {
   "cell_type": "code",
   "execution_count": 13,
   "metadata": {},
   "outputs": [],
   "source": [
    "kaggle_data.columns= ['year', 'state', 'month', 'incidents', 'day']"
   ]
  },
  {
   "cell_type": "markdown",
   "metadata": {},
   "source": [
    "## Merging new info"
   ]
  },
  {
   "cell_type": "markdown",
   "metadata": {},
   "source": [
    "### Region of Brazil"
   ]
  },
  {
   "cell_type": "code",
   "execution_count": 14,
   "metadata": {},
   "outputs": [],
   "source": [
    "region_state = {\"state\": ['amapa', 'tocantins', 'para', 'piaui', 'ceara', 'maranhao',\n",
    "       'mato grosso', 'rio grande do norte', 'sergipe', 'alagoas',\n",
    "       'paraiba', 'bahia', 'minas gerais', 'amazonas', 'roraima',\n",
    "       'rio grande do sul', 'pernambuco', 'rondonia', 'goias',\n",
    "       'rio de janeiro', 'sao paulo', 'espirito santo',\n",
    "       'mato grosso do sul', 'santa catarina', 'parana', 'acre',\n",
    "       'distrito federal'],\n",
    "       \"region\": [\"norte\", \"centro-oeste\", \"norte\", \"nordeste\", \"nordeste\", \n",
    "                  \"nordeste\", \"centro-oeste\", \"nordeste\", \"nordeste\", \"nordeste\",\n",
    "                 \"nordeste\", \"nordeste\", \"centro-oeste\", \"norte\", \"norte\",\n",
    "                 \"sul\", \"nordeste\", \"norte\", \"centro-oeste\", \n",
    "                  \"sudeste\", \"sudeste\", \"sudeste\", \n",
    "                  \"centro-oeste\", \"sul\", \"sul\", \"norte\", \"centro-oeste\"]}\n",
    "\n",
    "inpe_data = inpe_data.merge(pd.DataFrame(region_state), how=\"inner\", on=\"state\")\n",
    "kaggle_data = kaggle_data.merge(pd.DataFrame(region_state), how=\"inner\", on=\"state\")\n"
   ]
  },
  {
   "cell_type": "markdown",
   "metadata": {},
   "source": [
    "## Agregating inpe_data and kaggle_data"
   ]
  },
  {
   "cell_type": "code",
   "execution_count": 15,
   "metadata": {},
   "outputs": [],
   "source": [
    "estados = inpe_data['state'].unique()\n",
    "meses = inpe_data['month'].unique()\n",
    "\n",
    "agregated_data = {\n",
    "    'state': [],\n",
    "    'month': [],\n",
    "    'incidents': [],\n",
    "    'year': [],\n",
    "    'region': []\n",
    "}\n",
    "\n",
    "for estado in estados:\n",
    "    for mes in meses:\n",
    "        aux = inpe_data.loc[inpe_data['month'] == mes].loc[inpe_data['state'] == estado]\n",
    "        agregated_data['incidents'].append(len(aux))\n",
    "        agregated_data['month'].append(mes)\n",
    "        agregated_data['year'].append(2018)\n",
    "        agregated_data['state'].append(estado)\n",
    "        agregated_data['region'].append(inpe_data.loc[inpe_data['state'] == estado]['region'].iloc[0])\n",
    "        \n",
    "agregated_inpe_data = pd.DataFrame(agregated_data)"
   ]
  },
  {
   "cell_type": "code",
   "execution_count": 20,
   "metadata": {},
   "outputs": [],
   "source": [
    "estados = kaggle_data['state'].unique()\n",
    "\n",
    "kaggle_agregated_data = {\n",
    "    'state': [],\n",
    "    'month': [],\n",
    "    'incidents': [],\n",
    "    'year': [],\n",
    "    'region': [],\n",
    "}\n",
    "\n",
    "for estado in estados:\n",
    "    for mes in range(1, 13, 1):\n",
    "        for ano in range(1998, 2018, 1):\n",
    "            kaggle_agregated_data['incidents'].append(kaggle_data.loc[kaggle_data['state'] == estado].loc[kaggle_data['year'] == ano].loc[kaggle_data['month'] == mes].sum()['incidents'])\n",
    "            kaggle_agregated_data['state'].append(estado)\n",
    "            kaggle_agregated_data['month'].append(mes)\n",
    "            kaggle_agregated_data['year'].append(ano)\n",
    "            kaggle_agregated_data['region'].append(kaggle_data.loc[kaggle_data['state'] == estado]['region'].iloc[0])\n",
    "\n",
    "kaggle_agregated_data = pd.DataFrame(kaggle_agregated_data)"
   ]
  },
  {
   "cell_type": "markdown",
   "metadata": {},
   "source": [
    "## Save Datasets"
   ]
  },
  {
   "cell_type": "code",
   "execution_count": 23,
   "metadata": {},
   "outputs": [],
   "source": [
    "inpe_data.to_csv(\"..\\\\..\\\\dados\\\\Feature Engineered\\\\inpe_engineered.csv\", index=False)\n",
    "kaggle_data.to_csv(\"..\\\\..\\\\dados\\\\Feature Engineered\\\\kaggle_engineered.csv\", index=False)\n",
    "agregated_inpe_data.to_csv(\"..\\\\..\\\\dados\\\\Feature Engineered\\\\inpe_agregated_engineered.csv\", index=False)\n",
    "kaggle_agregated_data.to_csv(\"..\\\\..\\\\dados\\\\Feature Engineered\\\\kaggle_agregated_engineered.csv\", index=False)"
   ]
  }
 ],
 "metadata": {
  "kernelspec": {
   "display_name": "Python 3",
   "language": "python",
   "name": "python3"
  },
  "language_info": {
   "codemirror_mode": {
    "name": "ipython",
    "version": 3
   },
   "file_extension": ".py",
   "mimetype": "text/x-python",
   "name": "python",
   "nbconvert_exporter": "python",
   "pygments_lexer": "ipython3",
   "version": "3.8.5"
  }
 },
 "nbformat": 4,
 "nbformat_minor": 4
}
