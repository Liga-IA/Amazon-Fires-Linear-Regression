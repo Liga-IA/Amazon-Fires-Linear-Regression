{
 "cells": [
  {
   "cell_type": "markdown",
   "metadata": {},
   "source": [
    "# Cleaning INPE and Kaggle data"
   ]
  },
  {
   "cell_type": "markdown",
   "metadata": {},
   "source": [
    "## Imports"
   ]
  },
  {
   "cell_type": "code",
   "execution_count": 2,
   "metadata": {},
   "outputs": [],
   "source": [
    "import numpy as np\n",
    "import pandas as pd\n",
    "from sklearn.linear_model import LinearRegression, Lasso, Ridge\n",
    "from sklearn.ensemble import RandomForestRegressor\n",
    "from sklearn.metrics import mean_absolute_error, r2_score"
   ]
  },
  {
   "cell_type": "markdown",
   "metadata": {},
   "source": [
    "## Load datasets"
   ]
  },
  {
   "cell_type": "code",
   "execution_count": 5,
   "metadata": {},
   "outputs": [],
   "source": [
    "mode = \"local\"\n",
    "\n",
    "if mode == \"local\":\n",
    "    kaggle_data = pd.read_csv(\"../../dados/Canonical/amazon.csv\", sep=',', engine=\"python\")\n",
    "    inpe_data = pd.read_csv(\"../../dados/Canonical/Focos_2018-01-01_2018-12-31.csv\", sep=',', encoding='utf-8', engine=\"python\")\n",
    "elif mode == \"colab\":\n",
    "    kaggle_data = pd.read_csv(\"https://raw.githubusercontent.com/Liga-IA/Amazon-Fires-Regressions/main/dados/Canonical/amazon.csv\", sep=',', encoding=\"iso-8859-1\", engine=\"python\")\n",
    "    inpe_data = pd.read_csv(\"https://raw.githubusercontent.com/Liga-IA/Amazon-Fires-Regressions/main/dados/Canonical/Focos_2018-01-01_2018-12-31.csv\", sep=',', encoding='utf-8', engine=\"python\")"
   ]
  },
  {
   "cell_type": "markdown",
   "metadata": {},
   "source": [
    "## Prepare Data"
   ]
  },
  {
   "cell_type": "markdown",
   "metadata": {},
   "source": [
    "### Converting date and number to python numeric values"
   ]
  },
  {
   "cell_type": "code",
   "execution_count": 5,
   "metadata": {},
   "outputs": [],
   "source": [
    "def convert_timestamp_to_month(value):\n",
    "    timestamp = str(value)\n",
    "    return int(timestamp.split('/')[1])\n",
    "    \n",
    "def convert_timestamp_to_year(value):\n",
    "    timestamp = str(value)\n",
    "    return int(timestamp.split('/')[0])\n",
    "\n",
    "def convert_timestamp_to_day_inpe(value):\n",
    "    timestamp = str(value)\n",
    "    return int(timestamp.split(' ')[0].split('/')[2])\n",
    "\n",
    "def convert_timestamp_to_hour(value):\n",
    "    timestamp = str(value)\n",
    "    return int(timestamp.split(' ')[1].split(\":\")[0])\n",
    "    \n",
    "def convert_timestamp_to_day_kaggle(value):\n",
    "    timestamp = str(value)\n",
    "    return int(timestamp.split('-')[2])   \n",
    "    \n",
    "def process_number(value):\n",
    "    if str(value).split(\".\")[1] == \"0\":\n",
    "        return int(value)\n",
    "    else:\n",
    "        return int(float(value) * 1000)\n",
    "    \n",
    "inpe_data['month'] = inpe_data['datahora'].map(convert_timestamp_to_month)\n",
    "inpe_data['year'] = inpe_data['datahora'].map(convert_timestamp_to_year)\n",
    "inpe_data['day'] = inpe_data['datahora'].map(convert_timestamp_to_day_inpe)\n",
    "inpe_data['hour'] = inpe_data['datahora'].map(convert_timestamp_to_hour)\n",
    "\n",
    "kaggle_data['number'] = kaggle_data['number'].map(process_number)\n",
    "kaggle_data['day'] = kaggle_data['date'].map(convert_timestamp_to_day_kaggle)\n"
   ]
  },
  {
   "cell_type": "markdown",
   "metadata": {},
   "source": [
    "### Droping useless columns"
   ]
  },
  {
   "cell_type": "code",
   "execution_count": 6,
   "metadata": {},
   "outputs": [],
   "source": [
    "inpe_data = inpe_data.drop(['satelite', 'datahora', 'pais'], axis=1)"
   ]
  },
  {
   "cell_type": "code",
   "execution_count": 7,
   "metadata": {},
   "outputs": [],
   "source": [
    "kaggle_data = kaggle_data.drop(['date'], axis=1)"
   ]
  },
  {
   "cell_type": "markdown",
   "metadata": {},
   "source": [
    "### Encoding Months"
   ]
  },
  {
   "cell_type": "code",
   "execution_count": 8,
   "metadata": {},
   "outputs": [],
   "source": [
    "month_text_to_number = {\n",
    "    \"Janeiro\": 1,\n",
    "    \"Fevereiro\": 2,\n",
    "    \"Março\": 3,\n",
    "    \"Abril\": 4,\n",
    "    \"Maio\": 5,\n",
    "    \"Junho\": 6,\n",
    "    \"Julho\": 7,\n",
    "    \"Agosto\": 8,\n",
    "    \"Setembro\": 9,\n",
    "    \"Outubro\": 10,\n",
    "    \"Novembro\": 11,\n",
    "    \"Dezembro\": 12\n",
    "}\n",
    "\n",
    "def convert_month_text_to_number(value): \n",
    "    return month_text_to_number[str(value)]\n",
    "\n",
    "kaggle_data['month'] = kaggle_data['month'].map(convert_month_text_to_number)"
   ]
  },
  {
   "cell_type": "markdown",
   "metadata": {},
   "source": [
    "### Processing States"
   ]
  },
  {
   "cell_type": "code",
   "execution_count": 9,
   "metadata": {},
   "outputs": [],
   "source": [
    "state_to_number = {}\n",
    "counter = 0\n",
    "\n",
    "def encode_states(value):\n",
    "    global counter\n",
    "    state = str(value).lower()\n",
    "    state = state.replace(\"á\", \"a\")\n",
    "    if state == \"rio\":\n",
    "        state = \"rio de janeiro\"\n",
    "    \n",
    "    return state\n",
    "    '''\n",
    "    try:\n",
    "        return state_to_number[state]\n",
    "    except:\n",
    "        state_to_number[state] = counter\n",
    "        counter += 1\n",
    "        return counter - 1\n",
    "    '''\n",
    "kaggle_data['state'] = kaggle_data['state'].map(encode_states)\n",
    "inpe_data['estado'] = inpe_data['estado'].map(encode_states)\n"
   ]
  },
  {
   "cell_type": "code",
   "execution_count": 10,
   "metadata": {},
   "outputs": [
    {
     "data": {
      "text/html": [
       "<div>\n",
       "<style scoped>\n",
       "    .dataframe tbody tr th:only-of-type {\n",
       "        vertical-align: middle;\n",
       "    }\n",
       "\n",
       "    .dataframe tbody tr th {\n",
       "        vertical-align: top;\n",
       "    }\n",
       "\n",
       "    .dataframe thead th {\n",
       "        text-align: right;\n",
       "    }\n",
       "</style>\n",
       "<table border=\"1\" class=\"dataframe\">\n",
       "  <thead>\n",
       "    <tr style=\"text-align: right;\">\n",
       "      <th></th>\n",
       "      <th>estado</th>\n",
       "      <th>municipio</th>\n",
       "      <th>bioma</th>\n",
       "      <th>diasemchuva</th>\n",
       "      <th>precipitacao</th>\n",
       "      <th>riscofogo</th>\n",
       "      <th>latitude</th>\n",
       "      <th>longitude</th>\n",
       "      <th>frp</th>\n",
       "      <th>month</th>\n",
       "      <th>year</th>\n",
       "      <th>day</th>\n",
       "      <th>hour</th>\n",
       "    </tr>\n",
       "  </thead>\n",
       "  <tbody>\n",
       "    <tr>\n",
       "      <th>0</th>\n",
       "      <td>amapa</td>\n",
       "      <td>MACAPA</td>\n",
       "      <td>Amazonia</td>\n",
       "      <td>0</td>\n",
       "      <td>0.2</td>\n",
       "      <td>0.1</td>\n",
       "      <td>0.057</td>\n",
       "      <td>-51.148</td>\n",
       "      <td>14.8</td>\n",
       "      <td>1</td>\n",
       "      <td>2018</td>\n",
       "      <td>2</td>\n",
       "      <td>17</td>\n",
       "    </tr>\n",
       "  </tbody>\n",
       "</table>\n",
       "</div>"
      ],
      "text/plain": [
       "  estado municipio     bioma  diasemchuva  precipitacao  riscofogo  latitude  \\\n",
       "0  amapa    MACAPA  Amazonia            0           0.2        0.1     0.057   \n",
       "\n",
       "   longitude   frp  month  year  day  hour  \n",
       "0    -51.148  14.8      1  2018    2    17  "
      ]
     },
     "execution_count": 10,
     "metadata": {},
     "output_type": "execute_result"
    }
   ],
   "source": [
    "inpe_data.head(1)"
   ]
  },
  {
   "cell_type": "markdown",
   "metadata": {},
   "source": [
    "Os únicos encoding que fazem sentido para as variáveis de estado, município e bioma são aqueles que criam diferentes colunas para os valores (ONE-HOT), pois uma label encoding em um algoritmo inadequado para ele como uma regressão linear poderia levar a relações inadequadas. Como isso se refere a uma decisão de modelagem, manterei aqui os valores originais, e cabe ao modelador decidir o que fazer com as colunas para cada diferente tentativa!"
   ]
  },
  {
   "cell_type": "markdown",
   "metadata": {},
   "source": [
    "Sendo assim darei como pronto os pré processamentos gerais, daqui pra fentre os pré processamentos serão específicos para cada ideia de modelagem ou análise exploratória."
   ]
  },
  {
   "cell_type": "markdown",
   "metadata": {},
   "source": [
    "## Salvando os dados pré processados"
   ]
  },
  {
   "cell_type": "code",
   "execution_count": 11,
   "metadata": {},
   "outputs": [],
   "source": [
    "inpe_data.to_csv(\"../../dados/Preprocessed/preprocessed_inpe.csv\", index=False)\n",
    "kaggle_data.to_csv(\"../../dados/Preprocessed/preprocessed_kaggle.csv\", index=False)"
   ]
  },
  {
   "cell_type": "markdown",
   "metadata": {},
   "source": [
    "GG Guys!!"
   ]
  }
 ],
 "metadata": {
  "kernelspec": {
   "display_name": "Python 3",
   "language": "python",
   "name": "python3"
  },
  "language_info": {
   "codemirror_mode": {
    "name": "ipython",
    "version": 3
   },
   "file_extension": ".py",
   "mimetype": "text/x-python",
   "name": "python",
   "nbconvert_exporter": "python",
   "pygments_lexer": "ipython3",
   "version": "3.8.8"
  }
 },
 "nbformat": 4,
 "nbformat_minor": 4
}
